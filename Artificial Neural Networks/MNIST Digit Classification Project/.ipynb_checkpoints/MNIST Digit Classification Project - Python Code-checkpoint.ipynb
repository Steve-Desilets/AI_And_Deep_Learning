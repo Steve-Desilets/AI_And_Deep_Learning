{
 "cells": [
  {
   "cell_type": "markdown",
   "id": "a869fca2",
   "metadata": {},
   "source": [
    "# MNIST Digit Classification Project - Python Code"
   ]
  },
  {
   "cell_type": "markdown",
   "id": "921d6384",
   "metadata": {},
   "source": [
    "Steve Desilets"
   ]
  },
  {
   "cell_type": "markdown",
   "id": "2b4e7e1b",
   "metadata": {},
   "source": [
    "October 8, 2023"
   ]
  },
  {
   "cell_type": "markdown",
   "id": "09f42feb",
   "metadata": {},
   "source": [
    "## 1) Introduction"
   ]
  },
  {
   "cell_type": "code",
   "execution_count": null,
   "id": "66b99ec0",
   "metadata": {},
   "outputs": [],
   "source": []
  },
  {
   "cell_type": "code",
   "execution_count": null,
   "id": "c61e512e",
   "metadata": {},
   "outputs": [],
   "source": []
  },
  {
   "cell_type": "code",
   "execution_count": null,
   "id": "0c160b98",
   "metadata": {},
   "outputs": [],
   "source": []
  },
  {
   "cell_type": "markdown",
   "id": "c838a908",
   "metadata": {},
   "source": [
    "## 2) Importing Data, Cleaning Data, and Conducting Exploratory Data Analysis"
   ]
  },
  {
   "cell_type": "code",
   "execution_count": null,
   "id": "cc5aa850",
   "metadata": {},
   "outputs": [],
   "source": []
  },
  {
   "cell_type": "code",
   "execution_count": null,
   "id": "d19f0e12",
   "metadata": {},
   "outputs": [],
   "source": []
  },
  {
   "cell_type": "code",
   "execution_count": null,
   "id": "945a4c70",
   "metadata": {},
   "outputs": [],
   "source": []
  },
  {
   "cell_type": "markdown",
   "id": "4a6969d9",
   "metadata": {},
   "source": [
    "## 3) Experiment 1 - ANN with 1 Hidden Layer with 1 Node"
   ]
  },
  {
   "cell_type": "code",
   "execution_count": null,
   "id": "8fc4090f",
   "metadata": {},
   "outputs": [],
   "source": []
  },
  {
   "cell_type": "code",
   "execution_count": null,
   "id": "b6afe06b",
   "metadata": {},
   "outputs": [],
   "source": []
  },
  {
   "cell_type": "code",
   "execution_count": null,
   "id": "d0a16965",
   "metadata": {},
   "outputs": [],
   "source": []
  },
  {
   "cell_type": "markdown",
   "id": "e4e4000e",
   "metadata": {},
   "source": [
    "## 4) Experiment 2 - ANN with 1 Hidden Layer with 2 Nodes"
   ]
  },
  {
   "cell_type": "code",
   "execution_count": null,
   "id": "71235200",
   "metadata": {},
   "outputs": [],
   "source": []
  },
  {
   "cell_type": "code",
   "execution_count": null,
   "id": "017b22b8",
   "metadata": {},
   "outputs": [],
   "source": []
  },
  {
   "cell_type": "code",
   "execution_count": null,
   "id": "1213f1d4",
   "metadata": {},
   "outputs": [],
   "source": []
  },
  {
   "cell_type": "markdown",
   "id": "a62b664f",
   "metadata": {},
   "source": [
    "## 5)  Experiment 3 - ANN with 1 Hidden Layer with ______________________ Nodes"
   ]
  },
  {
   "cell_type": "code",
   "execution_count": null,
   "id": "2726a071",
   "metadata": {},
   "outputs": [],
   "source": []
  },
  {
   "cell_type": "code",
   "execution_count": null,
   "id": "7036ad54",
   "metadata": {},
   "outputs": [],
   "source": []
  },
  {
   "cell_type": "code",
   "execution_count": null,
   "id": "518de457",
   "metadata": {},
   "outputs": [],
   "source": []
  },
  {
   "cell_type": "markdown",
   "id": "62aab111",
   "metadata": {},
   "source": [
    "## 6) Experiment 4 - ANN with 1 Hidden Layer with ___________________ Nodes"
   ]
  },
  {
   "cell_type": "code",
   "execution_count": null,
   "id": "628569ec",
   "metadata": {},
   "outputs": [],
   "source": []
  },
  {
   "cell_type": "code",
   "execution_count": null,
   "id": "0e6f50d0",
   "metadata": {},
   "outputs": [],
   "source": []
  },
  {
   "cell_type": "code",
   "execution_count": null,
   "id": "b5e9972e",
   "metadata": {},
   "outputs": [],
   "source": []
  },
  {
   "cell_type": "markdown",
   "id": "b1326bf1",
   "metadata": {},
   "source": [
    "## 7) Experiment 5 - ANN with 1 Hidden Layer with _________________________________ Nodes"
   ]
  },
  {
   "cell_type": "code",
   "execution_count": null,
   "id": "0cb51e3b",
   "metadata": {},
   "outputs": [],
   "source": []
  },
  {
   "cell_type": "code",
   "execution_count": null,
   "id": "301a3d1a",
   "metadata": {},
   "outputs": [],
   "source": []
  },
  {
   "cell_type": "code",
   "execution_count": null,
   "id": "3abe2d4d",
   "metadata": {},
   "outputs": [],
   "source": []
  },
  {
   "cell_type": "markdown",
   "id": "01f1b636",
   "metadata": {},
   "source": [
    "## 8) Experiment 6 - ANN with 1 Hidden Layer with _______________________________ Nodes"
   ]
  },
  {
   "cell_type": "code",
   "execution_count": null,
   "id": "972dc9be",
   "metadata": {},
   "outputs": [],
   "source": []
  },
  {
   "cell_type": "code",
   "execution_count": null,
   "id": "f445543d",
   "metadata": {},
   "outputs": [],
   "source": []
  },
  {
   "cell_type": "code",
   "execution_count": null,
   "id": "dec72924",
   "metadata": {},
   "outputs": [],
   "source": []
  },
  {
   "cell_type": "markdown",
   "id": "7562d4a0",
   "metadata": {},
   "source": [
    "## 9) Experiment 7 - ANN with 1 Hidden Layer with ____________________________ Nodes"
   ]
  },
  {
   "cell_type": "code",
   "execution_count": null,
   "id": "f27c8604",
   "metadata": {},
   "outputs": [],
   "source": []
  },
  {
   "cell_type": "code",
   "execution_count": null,
   "id": "79e65d97",
   "metadata": {},
   "outputs": [],
   "source": []
  },
  {
   "cell_type": "code",
   "execution_count": null,
   "id": "0a7f4c59",
   "metadata": {},
   "outputs": [],
   "source": []
  },
  {
   "cell_type": "markdown",
   "id": "a77bef31",
   "metadata": {},
   "source": [
    "## 10) Experiment 8 - ANN with 1 Hidden Layer with __________________________ Nodes"
   ]
  },
  {
   "cell_type": "code",
   "execution_count": null,
   "id": "79323965",
   "metadata": {},
   "outputs": [],
   "source": []
  },
  {
   "cell_type": "code",
   "execution_count": null,
   "id": "e5242f2d",
   "metadata": {},
   "outputs": [],
   "source": []
  },
  {
   "cell_type": "code",
   "execution_count": null,
   "id": "5e68050e",
   "metadata": {},
   "outputs": [],
   "source": []
  },
  {
   "cell_type": "markdown",
   "id": "437aae0d",
   "metadata": {},
   "source": [
    "## 11) Experiment 9 - Principal Components Analysis Followed By Artificial Neural Network"
   ]
  },
  {
   "cell_type": "code",
   "execution_count": null,
   "id": "3079b2a0",
   "metadata": {},
   "outputs": [],
   "source": []
  },
  {
   "cell_type": "code",
   "execution_count": null,
   "id": "592e3131",
   "metadata": {},
   "outputs": [],
   "source": []
  },
  {
   "cell_type": "code",
   "execution_count": null,
   "id": "d44b528e",
   "metadata": {},
   "outputs": [],
   "source": []
  },
  {
   "cell_type": "markdown",
   "id": "00375839",
   "metadata": {},
   "source": [
    "## 12) Experiment 10 - Random Forest Classifier "
   ]
  },
  {
   "cell_type": "code",
   "execution_count": null,
   "id": "8e33057b",
   "metadata": {},
   "outputs": [],
   "source": []
  },
  {
   "cell_type": "code",
   "execution_count": null,
   "id": "6499708a",
   "metadata": {},
   "outputs": [],
   "source": []
  },
  {
   "cell_type": "code",
   "execution_count": null,
   "id": "29e6406b",
   "metadata": {},
   "outputs": [],
   "source": []
  }
 ],
 "metadata": {
  "kernelspec": {
   "display_name": "Python 3 (ipykernel)",
   "language": "python",
   "name": "python3"
  },
  "language_info": {
   "codemirror_mode": {
    "name": "ipython",
    "version": 3
   },
   "file_extension": ".py",
   "mimetype": "text/x-python",
   "name": "python",
   "nbconvert_exporter": "python",
   "pygments_lexer": "ipython3",
   "version": "3.9.12"
  }
 },
 "nbformat": 4,
 "nbformat_minor": 5
}
