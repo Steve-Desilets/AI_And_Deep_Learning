{
 "cells": [
  {
   "cell_type": "markdown",
   "id": "a869fca2",
   "metadata": {},
   "source": [
    "# MNIST Digit Classification Project - Python Code"
   ]
  },
  {
   "cell_type": "markdown",
   "id": "921d6384",
   "metadata": {},
   "source": [
    "Steve Desilets"
   ]
  },
  {
   "cell_type": "markdown",
   "id": "2b4e7e1b",
   "metadata": {},
   "source": [
    "October 8, 2023"
   ]
  },
  {
   "cell_type": "markdown",
   "id": "09f42feb",
   "metadata": {},
   "source": [
    "## 1) Introduction"
   ]
  },
  {
   "cell_type": "markdown",
   "id": "82cedb7b",
   "metadata": {},
   "source": [
    "For this project, we will be constructing models capable of classifying images of hand-drawn digits as the appropriate number (from 0 throuh 9).  To achieve this objective, we will construct several artificial neural network (ANN) models, an ANN model that leverages input data derived from principal components analysis (PCA), and a Random Forest Classifier model. For each of these models, we'll examine performance metrics as well as the key features that the models extracted during the training process."
   ]
  },
  {
   "cell_type": "markdown",
   "id": "c838a908",
   "metadata": {},
   "source": [
    "## 2) Importing Data, Conducting Exploratory Data Analysis, and Cleaning Data"
   ]
  },
  {
   "cell_type": "markdown",
   "id": "a7b680fc",
   "metadata": {},
   "source": [
    "### 2.1) Notebook Set-Up and Data Importation"
   ]
  },
  {
   "cell_type": "markdown",
   "id": "7d724857",
   "metadata": {},
   "source": [
    "First, let's download the necessary packages."
   ]
  },
  {
   "cell_type": "code",
   "execution_count": null,
   "id": "d19f0e12",
   "metadata": {},
   "outputs": [],
   "source": [
    "import datetime\n",
    "from packaging import version\n",
    "from collections import Counter\n",
    "import numpy as np\n",
    "import pandas as pd\n",
    "\n",
    "import matplotlib as mpl  # EA\n",
    "import matplotlib.pyplot as plt\n",
    "import seaborn as sns\n",
    "\n",
    "from sklearn.metrics import confusion_matrix, classification_report\n",
    "from sklearn.decomposition import PCA\n",
    "from sklearn.manifold import TSNE\n",
    "from sklearn.ensemble import RandomForestClassifier\n",
    "from sklearn.metrics import mean_squared_error as MSE\n",
    "from sklearn.metrics import accuracy_score\n",
    "\n",
    "import tensorflow as tf\n",
    "from tensorflow.keras.utils import to_categorical\n",
    "from tensorflow import keras\n",
    "from tensorflow.keras import models\n",
    "from tensorflow.keras.models import Sequential\n",
    "from tensorflow.keras.layers import Dense, Flatten\n",
    "from tensorflow.keras.datasets import mnist\n",
    "import tensorflow.keras.backend as k"
   ]
  },
  {
   "cell_type": "code",
   "execution_count": null,
   "id": "fb953350",
   "metadata": {},
   "outputs": [],
   "source": [
    "%matplotlib inline\n",
    "np.set_printoptions(precision=3, suppress=True)"
   ]
  },
  {
   "cell_type": "code",
   "execution_count": null,
   "id": "ba1e18b5",
   "metadata": {},
   "outputs": [],
   "source": [
    "print(\"This notebook requires TensorFlow 2.0 or above\")\n",
    "print(\"TensorFlow version: \", tf.__version__)\n",
    "assert version.parse(tf.__version__).release[0] >=2"
   ]
  },
  {
   "cell_type": "markdown",
   "id": "0bffc4a6",
   "metadata": {},
   "source": [
    "Now let's mount to the Google Colab environment."
   ]
  },
  {
   "cell_type": "code",
   "execution_count": null,
   "id": "c617ce8f",
   "metadata": {},
   "outputs": [],
   "source": [
    "#from google.colab import drive\n",
    "#drive.mount('/content/gdrive')"
   ]
  },
  {
   "cell_type": "markdown",
   "id": "ec083811",
   "metadata": {},
   "source": [
    "Let's define functions that will be useful throughout the model development and assessment process."
   ]
  },
  {
   "cell_type": "code",
   "execution_count": null,
   "id": "0e38cb4a",
   "metadata": {},
   "outputs": [],
   "source": [
    "def print_validation_report(test_labels, predictions):\n",
    "    print(\"Classification Report\")\n",
    "    print(classification_report(test_labels, predictions))\n",
    "    print('Accuracy Score: {}'.format(accuracy_score(test_labels, predictions)))\n",
    "    print('Root Mean Square Error: {}'.format(np.sqrt(MSE(test_labels, predictions))))\n",
    "\n",
    "def plot_confusion_matrix(y_true, y_pred):\n",
    "    mtx = confusion_matrix(y_true, y_pred)\n",
    "    fig, ax = plt.subplots(figsize=(16,12))\n",
    "    sns.heatmap(mtx, annot=True, fmt='d', linewidths=.75,  cbar=False, ax=ax,cmap='Blues',linecolor='white')\n",
    "    #  square=True,\n",
    "    plt.ylabel('true label')\n",
    "    plt.xlabel('predicted label')\n",
    "\n",
    "def plot_history(history):\n",
    "  losses = history.history['loss']\n",
    "  accs = history.history['accuracy']\n",
    "  val_losses = history.history['val_loss']\n",
    "  val_accs = history.history['val_accuracy']\n",
    "  epochs = len(losses)\n",
    "\n",
    "  plt.figure(figsize=(16, 4))\n",
    "  for i, metrics in enumerate(zip([losses, accs], [val_losses, val_accs], ['Loss', 'Accuracy'])):\n",
    "    plt.subplot(1, 2, i + 1)\n",
    "    plt.plot(range(epochs), metrics[0], label='Training {}'.format(metrics[2]))\n",
    "    plt.plot(range(epochs), metrics[1], label='Validation {}'.format(metrics[2]))\n",
    "    plt.legend()\n",
    "  plt.show()\n",
    "\n",
    "def plot_digits(instances, pos, images_per_row=5, **options):\n",
    "    size = 28\n",
    "    images_per_row = min(len(instances), images_per_row)\n",
    "    images = [instance.reshape(size,size) for instance in instances]\n",
    "    n_rows = (len(instances) - 1) // images_per_row + 1\n",
    "    row_images = []\n",
    "    n_empty = n_rows * images_per_row - len(instances)\n",
    "    images.append(np.zeros((size, size * n_empty)))\n",
    "    for row in range(n_rows):\n",
    "        rimages = images[row * images_per_row : (row + 1) * images_per_row]\n",
    "        row_images.append(np.concatenate(rimages, axis=1))\n",
    "    image = np.concatenate(row_images, axis=0)\n",
    "    pos.imshow(image, cmap = 'binary', **options)\n",
    "    pos.axis(\"off\")\n",
    "\n",
    "def plot_digit(data):\n",
    "    image = data.reshape(28, 28)\n",
    "    plt.imshow(image, cmap = 'hot',\n",
    "               interpolation=\"nearest\")\n",
    "    plt.axis(\"off\")"
   ]
  },
  {
   "cell_type": "markdown",
   "id": "b5694111",
   "metadata": {},
   "source": [
    "Let's load the MNIST dataset into this Python notebook.\n",
    "\n",
    "The MNIST dataset of handwritten digits has a training set of 60,000 images, and a test set of 10,000 images. It comes prepackaged as part of `tf.Keras`. We will load this dataset and the corresponding labels as Numpy arrays.\n",
    "\n",
    "* Tuples of Numpy arrays: `(x_train, y_train)`, `(x_test, y_test)`\n",
    "* `x_train`, `x_test`: uint8 arrays of grayscale image data with shapes (num_samples, 28, 28).\n",
    "* `y_train`, `y_test`: uint8 arrays of digit labels (integers in range 0-9)"
   ]
  },
  {
   "cell_type": "markdown",
   "id": "916539ec",
   "metadata": {},
   "source": [
    "### 2.2) Exploratory Data Analysis"
   ]
  },
  {
   "cell_type": "markdown",
   "id": "93c7bcf5",
   "metadata": {},
   "source": [
    "Let's perform exploratory data analysis on the imported MNIST data."
   ]
  },
  {
   "cell_type": "markdown",
   "id": "cc9259ae",
   "metadata": {},
   "source": [
    "Let's examine the shape of our datasets."
   ]
  },
  {
   "cell_type": "code",
   "execution_count": null,
   "id": "c19bc6d5",
   "metadata": {},
   "outputs": [],
   "source": [
    "print('x_train:\\t{}'.format(x_train.shape))\n",
    "print('y_train:\\t{}'.format(y_train.shape))\n",
    "print('x_test:\\t\\t{}'.format(x_test.shape))\n",
    "print('y_test:\\t\\t{}'.format(y_test.shape))"
   ]
  },
  {
   "cell_type": "markdown",
   "id": "243d3ae4",
   "metadata": {},
   "source": [
    "Let's print the first 10 labels in our training and test datasets."
   ]
  },
  {
   "cell_type": "code",
   "execution_count": null,
   "id": "3418c27a",
   "metadata": {},
   "outputs": [],
   "source": [
    "print(\"First ten labels training dataset:\\n {}\\n\".format(y_train[0:10]))"
   ]
  },
  {
   "cell_type": "code",
   "execution_count": null,
   "id": "97625bf2",
   "metadata": {},
   "outputs": [],
   "source": [
    "print(\"First ten labels training dataset:\\n {}\\n\".format(y_test[0:10]))"
   ]
  },
  {
   "cell_type": "markdown",
   "id": "567f67bc",
   "metadata": {},
   "source": [
    "Let's examine the distribution of label values in our training and test datasets."
   ]
  },
  {
   "cell_type": "code",
   "execution_count": null,
   "id": "1050563e",
   "metadata": {},
   "outputs": [],
   "source": [
    "plt.figure(figsize = (12 ,8))\n",
    "items = [{'Class': x, 'Count': y} for x, y in Counter(y_test).items()]\n",
    "distribution = pd.DataFrame(items).sort_values(['Class'])\n",
    "sns.barplot(x=distribution.Class, y=distribution.Count);"
   ]
  },
  {
   "cell_type": "code",
   "execution_count": null,
   "id": "efe51968",
   "metadata": {},
   "outputs": [],
   "source": [
    "plt.figure(figsize = (12 ,8))\n",
    "items = [{'Class': x, 'Count': y} for x, y in Counter(y_train).items()]\n",
    "distribution = pd.DataFrame(items).sort_values(['Class'])\n",
    "sns.barplot(x=distribution.Class, y=distribution.Count);"
   ]
  },
  {
   "cell_type": "code",
   "execution_count": null,
   "id": "1b1062db",
   "metadata": {},
   "outputs": [],
   "source": [
    "Counter(y_train).most_common()"
   ]
  },
  {
   "cell_type": "code",
   "execution_count": null,
   "id": "df195053",
   "metadata": {},
   "outputs": [],
   "source": [
    "Counter(y_test).most_common()"
   ]
  },
  {
   "cell_type": "markdown",
   "id": "4ebda7ec",
   "metadata": {},
   "source": [
    "Let's examine the first fifty images in the training and test datasets."
   ]
  },
  {
   "cell_type": "code",
   "execution_count": null,
   "id": "c9901f6c",
   "metadata": {},
   "outputs": [],
   "source": [
    "fig = plt.figure(figsize = (15, 9))\n",
    "\n",
    "for i in range(50):\n",
    "    plt.subplot(5, 10, 1+i)\n",
    "    plt.title(y_train[i])\n",
    "    plt.xticks([])\n",
    "    plt.yticks([])\n",
    "    plt.imshow(x_train[i].reshape(28,28), cmap='binary')"
   ]
  },
  {
   "cell_type": "code",
   "execution_count": null,
   "id": "0277a34b",
   "metadata": {},
   "outputs": [],
   "source": [
    "fig = plt.figure(figsize = (15, 9))\n",
    "\n",
    "for i in range(50):\n",
    "    plt.subplot(5, 10, 1+i)\n",
    "    plt.title(y_train[i])\n",
    "    plt.xticks([])\n",
    "    plt.yticks([])\n",
    "    plt.imshow(x_test[i].reshape(28,28), cmap='binary')"
   ]
  },
  {
   "cell_type": "markdown",
   "id": "70355919",
   "metadata": {},
   "source": [
    "### 2.3) Data Cleaning and Pre-Processing"
   ]
  },
  {
   "cell_type": "markdown",
   "id": "09dc3424",
   "metadata": {},
   "source": [
    "* Before we build our model, we need to prepare the data into the shape the network expected\n",
    "* More specifically, we will convert the labels (integers 0 to 9) to 1D numpy arrays of shape (10,) with elements 0s and 1s.\n",
    "* We also reshape the images from 2D arrays of shape (28,28) to 1D *float32* arrays of shape (784,) and then rescale their elements to values between 0 and 1."
   ]
  },
  {
   "cell_type": "markdown",
   "id": "13af7cc3",
   "metadata": {},
   "source": [
    "##### Let's apply one-hot coding to the labels.\n",
    "\n",
    "We will change the way the labels are represented from numbers (0 to 9) to vectors (1D arrays) of shape (10, ) with all the elements set to 0 except the one which the label belongs to - which will be set to 1. For example:\n",
    "\n",
    "\n",
    "| original label | one-hot encoded label |\n",
    "|------|------|\n",
    "| 5 | [0 0 0 0 0 1 0 0 0 0] |\n",
    "| 7 | [0 0 0 0 0 0 0 1 0 0] |\n",
    "| 1 | [0 1 0 0 0 0 0 0 0 0] |"
   ]
  },
  {
   "cell_type": "code",
   "execution_count": null,
   "id": "97f6a707",
   "metadata": {},
   "outputs": [],
   "source": [
    "y_train_encoded = to_categorical(y_train)\n",
    "y_test_encoded = to_categorical(y_test)\n",
    "\n",
    "print(\"First ten entries of y_train:\\n {}\\n\".format(y_train[0:10]))\n",
    "print(\"First ten rows of one-hot y_train:\\n {}\".format(y_train_encoded[0:10,]))\n",
    "\n",
    "print(\"First ten entries of y_test:\\n {}\\n\".format(y_train[0:10]))\n",
    "print(\"First ten rows of one-hot y_test:\\n {}\".format(y_train_encoded[0:10,]))"
   ]
  },
  {
   "cell_type": "code",
   "execution_count": null,
   "id": "91adaa3f",
   "metadata": {},
   "outputs": [],
   "source": [
    "print('y_train_encoded shape: ', y_train_encoded.shape)\n",
    "print('y_test_encoded shape: ', y_test_encoded.shape)"
   ]
  },
  {
   "cell_type": "markdown",
   "id": "80742a9e",
   "metadata": {},
   "source": [
    "##### Reshape the images to 1D arrays\n",
    "\n",
    "Reshape the images from shape (28, 28) 2D arrays to shape (784, ) vectors (1D arrays)."
   ]
  },
  {
   "cell_type": "code",
   "execution_count": null,
   "id": "e51e5568",
   "metadata": {},
   "outputs": [],
   "source": [
    "# Before reshape:\n",
    "print('x_train:\\t{}'.format(x_train.shape))\n",
    "print('x_test:\\t\\t{}'.format(x_test.shape))"
   ]
  },
  {
   "cell_type": "code",
   "execution_count": null,
   "id": "5ddbacf5",
   "metadata": {},
   "outputs": [],
   "source": [
    "np.set_printoptions(linewidth=np.inf)\n",
    "print(\"{}\".format(x_train[2020]))"
   ]
  },
  {
   "cell_type": "code",
   "execution_count": null,
   "id": "75a15fd6",
   "metadata": {},
   "outputs": [],
   "source": [
    "# Reshape the images:\n",
    "x_train_reshaped = np.reshape(x_train, (60000, 784))\n",
    "x_test_reshaped = np.reshape(x_test, (10000, 784))\n",
    "\n",
    "# After reshape:\n",
    "print('x_train_reshaped shape: ', x_train_reshaped.shape)\n",
    "print('x_test_reshaped shape: ', x_test_reshaped.shape)"
   ]
  },
  {
   "cell_type": "markdown",
   "id": "4cf06950",
   "metadata": {},
   "source": [
    "1. Each element in an image is a pixel value\n",
    "2. Pixel values range from 0 to 255\n",
    "3. 0 = White\n",
    "4. 255 = Black"
   ]
  },
  {
   "cell_type": "markdown",
   "id": "8a1e4848",
   "metadata": {},
   "source": [
    "Let's review thew unique values using the set from the first image in the training dataset."
   ]
  },
  {
   "cell_type": "code",
   "execution_count": null,
   "id": "8c5cb0c0",
   "metadata": {},
   "outputs": [],
   "source": [
    "print(set(x_train_reshaped[0]))"
   ]
  },
  {
   "cell_type": "markdown",
   "id": "9a04b34c",
   "metadata": {},
   "source": [
    "##### Rescale the elements of the reshaped images\n",
    "\n",
    "Let's rescale the elements of the x_train_reshaped and x_test_reshaped datasets to be between 0 and 1. "
   ]
  },
  {
   "cell_type": "code",
   "execution_count": null,
   "id": "1ce4d545",
   "metadata": {},
   "outputs": [],
   "source": [
    "x_train_norm = x_train_reshaped.astype('float32') / 255\n",
    "x_test_norm = x_test_reshaped.astype('float32') / 255"
   ]
  },
  {
   "cell_type": "code",
   "execution_count": null,
   "id": "22f2e097",
   "metadata": {},
   "outputs": [],
   "source": [
    "# Take a look at the first reshaped and normalized training image:\n",
    "print(set(x_train_norm[0]))\n",
    "print(set(x_test_norm[0]))"
   ]
  },
  {
   "cell_type": "code",
   "execution_count": null,
   "id": "945a4c70",
   "metadata": {},
   "outputs": [],
   "source": []
  },
  {
   "cell_type": "markdown",
   "id": "4a6969d9",
   "metadata": {},
   "source": [
    "## 3) Experiment 1 - ANN with 1 Hidden Layer with 1 Node"
   ]
  },
  {
   "cell_type": "code",
   "execution_count": null,
   "id": "8fc4090f",
   "metadata": {},
   "outputs": [],
   "source": []
  },
  {
   "cell_type": "code",
   "execution_count": null,
   "id": "b6afe06b",
   "metadata": {},
   "outputs": [],
   "source": []
  },
  {
   "cell_type": "code",
   "execution_count": null,
   "id": "d0a16965",
   "metadata": {},
   "outputs": [],
   "source": []
  },
  {
   "cell_type": "markdown",
   "id": "e4e4000e",
   "metadata": {},
   "source": [
    "## 4) Experiment 2 - ANN with 1 Hidden Layer with 2 Nodes"
   ]
  },
  {
   "cell_type": "code",
   "execution_count": null,
   "id": "71235200",
   "metadata": {},
   "outputs": [],
   "source": []
  },
  {
   "cell_type": "code",
   "execution_count": null,
   "id": "017b22b8",
   "metadata": {},
   "outputs": [],
   "source": []
  },
  {
   "cell_type": "code",
   "execution_count": null,
   "id": "1213f1d4",
   "metadata": {},
   "outputs": [],
   "source": []
  },
  {
   "cell_type": "markdown",
   "id": "a62b664f",
   "metadata": {},
   "source": [
    "## 5)  Experiment 3 - ANN with 1 Hidden Layer with ______________________ Nodes"
   ]
  },
  {
   "cell_type": "code",
   "execution_count": null,
   "id": "2726a071",
   "metadata": {},
   "outputs": [],
   "source": []
  },
  {
   "cell_type": "code",
   "execution_count": null,
   "id": "7036ad54",
   "metadata": {},
   "outputs": [],
   "source": []
  },
  {
   "cell_type": "code",
   "execution_count": null,
   "id": "518de457",
   "metadata": {},
   "outputs": [],
   "source": []
  },
  {
   "cell_type": "markdown",
   "id": "62aab111",
   "metadata": {},
   "source": [
    "## 6) Experiment 4 - ANN with 1 Hidden Layer with ___________________ Nodes"
   ]
  },
  {
   "cell_type": "code",
   "execution_count": null,
   "id": "628569ec",
   "metadata": {},
   "outputs": [],
   "source": []
  },
  {
   "cell_type": "code",
   "execution_count": null,
   "id": "0e6f50d0",
   "metadata": {},
   "outputs": [],
   "source": []
  },
  {
   "cell_type": "code",
   "execution_count": null,
   "id": "b5e9972e",
   "metadata": {},
   "outputs": [],
   "source": []
  },
  {
   "cell_type": "markdown",
   "id": "b1326bf1",
   "metadata": {},
   "source": [
    "## 7) Experiment 5 - ANN with 1 Hidden Layer with _________________________________ Nodes"
   ]
  },
  {
   "cell_type": "code",
   "execution_count": null,
   "id": "0cb51e3b",
   "metadata": {},
   "outputs": [],
   "source": []
  },
  {
   "cell_type": "code",
   "execution_count": null,
   "id": "301a3d1a",
   "metadata": {},
   "outputs": [],
   "source": []
  },
  {
   "cell_type": "code",
   "execution_count": null,
   "id": "3abe2d4d",
   "metadata": {},
   "outputs": [],
   "source": []
  },
  {
   "cell_type": "markdown",
   "id": "01f1b636",
   "metadata": {},
   "source": [
    "## 8) Experiment 6 - ANN with 1 Hidden Layer with _______________________________ Nodes"
   ]
  },
  {
   "cell_type": "code",
   "execution_count": null,
   "id": "972dc9be",
   "metadata": {},
   "outputs": [],
   "source": []
  },
  {
   "cell_type": "code",
   "execution_count": null,
   "id": "f445543d",
   "metadata": {},
   "outputs": [],
   "source": []
  },
  {
   "cell_type": "code",
   "execution_count": null,
   "id": "dec72924",
   "metadata": {},
   "outputs": [],
   "source": []
  },
  {
   "cell_type": "markdown",
   "id": "7562d4a0",
   "metadata": {},
   "source": [
    "## 9) Experiment 7 - ANN with 1 Hidden Layer with ____________________________ Nodes"
   ]
  },
  {
   "cell_type": "code",
   "execution_count": null,
   "id": "f27c8604",
   "metadata": {},
   "outputs": [],
   "source": []
  },
  {
   "cell_type": "code",
   "execution_count": null,
   "id": "79e65d97",
   "metadata": {},
   "outputs": [],
   "source": []
  },
  {
   "cell_type": "code",
   "execution_count": null,
   "id": "0a7f4c59",
   "metadata": {},
   "outputs": [],
   "source": []
  },
  {
   "cell_type": "markdown",
   "id": "a77bef31",
   "metadata": {},
   "source": [
    "## 10) Experiment 8 - ANN with 1 Hidden Layer with __________________________ Nodes"
   ]
  },
  {
   "cell_type": "code",
   "execution_count": null,
   "id": "79323965",
   "metadata": {},
   "outputs": [],
   "source": []
  },
  {
   "cell_type": "code",
   "execution_count": null,
   "id": "e5242f2d",
   "metadata": {},
   "outputs": [],
   "source": []
  },
  {
   "cell_type": "code",
   "execution_count": null,
   "id": "5e68050e",
   "metadata": {},
   "outputs": [],
   "source": []
  },
  {
   "cell_type": "markdown",
   "id": "437aae0d",
   "metadata": {},
   "source": [
    "## 11) Experiment 9 - Principal Components Analysis Followed By Artificial Neural Network"
   ]
  },
  {
   "cell_type": "code",
   "execution_count": null,
   "id": "3079b2a0",
   "metadata": {},
   "outputs": [],
   "source": []
  },
  {
   "cell_type": "code",
   "execution_count": null,
   "id": "592e3131",
   "metadata": {},
   "outputs": [],
   "source": []
  },
  {
   "cell_type": "code",
   "execution_count": null,
   "id": "d44b528e",
   "metadata": {},
   "outputs": [],
   "source": []
  },
  {
   "cell_type": "markdown",
   "id": "00375839",
   "metadata": {},
   "source": [
    "## 12) Experiment 10 - Random Forest Classifier "
   ]
  },
  {
   "cell_type": "code",
   "execution_count": null,
   "id": "8e33057b",
   "metadata": {},
   "outputs": [],
   "source": []
  },
  {
   "cell_type": "code",
   "execution_count": null,
   "id": "6499708a",
   "metadata": {},
   "outputs": [],
   "source": []
  },
  {
   "cell_type": "code",
   "execution_count": null,
   "id": "29e6406b",
   "metadata": {},
   "outputs": [],
   "source": []
  }
 ],
 "metadata": {
  "kernelspec": {
   "display_name": "Python 3 (ipykernel)",
   "language": "python",
   "name": "python3"
  },
  "language_info": {
   "codemirror_mode": {
    "name": "ipython",
    "version": 3
   },
   "file_extension": ".py",
   "mimetype": "text/x-python",
   "name": "python",
   "nbconvert_exporter": "python",
   "pygments_lexer": "ipython3",
   "version": "3.9.12"
  }
 },
 "nbformat": 4,
 "nbformat_minor": 5
}
